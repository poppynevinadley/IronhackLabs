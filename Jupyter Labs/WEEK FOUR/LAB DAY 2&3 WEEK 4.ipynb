{
 "cells": [
  {
   "cell_type": "code",
   "execution_count": 1,
   "id": "b357d9ae",
   "metadata": {},
   "outputs": [],
   "source": [
    "import numpy as np\n",
    "import pandas as pd\n",
    "import matplotlib.pyplot as plt\n",
    "%matplotlib inline\n",
    "import seaborn as sns\n",
    "from sklearn.preprocessing import PowerTransformer\n",
    "from sklearn.compose import ColumnTransformer\n",
    "from sklearn.linear_model import LinearRegression\n",
    "from sklearn.model_selection import train_test_split\n",
    "\n",
    "import statsmodels.api as sm\n",
    "from sklearn.metrics import r2_score\n",
    "from sklearn.metrics import mean_squared_error as mse\n",
    "from sklearn.metrics import mean_absolute_error as mae\n",
    "pd.options.display.max_rows = 50"
   ]
  },
  {
   "cell_type": "code",
   "execution_count": 2,
   "id": "cc42c483",
   "metadata": {},
   "outputs": [],
   "source": [
    "hk_df= pd.read_csv('Data_Marketing_Customer_Analysis_Round3.csv')\n",
    "                   #hk_df_cleaned.csv\")"
   ]
  },
  {
   "cell_type": "code",
   "execution_count": 3,
   "id": "09a5408e",
   "metadata": {},
   "outputs": [],
   "source": [
    "numericalX = hk_df.select_dtypes(np.number)"
   ]
  },
  {
   "cell_type": "code",
   "execution_count": 4,
   "id": "a84686cf",
   "metadata": {},
   "outputs": [
    {
     "data": {
      "text/plain": [
       "Index(['customer_lifetime_value', 'income', 'monthly_premium_auto',\n",
       "       'months_since_last_claim', 'months_since_policy_inception',\n",
       "       'number_of_open_complaints', 'number_of_policies',\n",
       "       'total_claim_amount'],\n",
       "      dtype='object')"
      ]
     },
     "execution_count": 4,
     "metadata": {},
     "output_type": "execute_result"
    }
   ],
   "source": [
    "numericalX.columns"
   ]
  },
  {
   "cell_type": "code",
   "execution_count": 5,
   "id": "2f2bc9bd",
   "metadata": {},
   "outputs": [],
   "source": [
    "X = numericalX.drop('total_claim_amount', axis=1)    #total claim amount\n",
    "y = numericalX.total_claim_amount"
   ]
  },
  {
   "cell_type": "markdown",
   "id": "51a13b16",
   "metadata": {},
   "source": [
    "X-y split (y is the target variable, which is the total claim amount)"
   ]
  },
  {
   "cell_type": "code",
   "execution_count": 6,
   "id": "f88d4c4c",
   "metadata": {},
   "outputs": [
    {
     "data": {
      "text/plain": [
       "customer_lifetime_value          False\n",
       "income                           False\n",
       "monthly_premium_auto             False\n",
       "months_since_last_claim          False\n",
       "months_since_policy_inception    False\n",
       "number_of_open_complaints        False\n",
       "number_of_policies               False\n",
       "total_claim_amount               False\n",
       "dtype: bool"
      ]
     },
     "execution_count": 6,
     "metadata": {},
     "output_type": "execute_result"
    }
   ],
   "source": [
    "#see if need to drop any nas\n",
    "numericalX.isna().any()"
   ]
  },
  {
   "cell_type": "code",
   "execution_count": 7,
   "id": "4e040083",
   "metadata": {},
   "outputs": [],
   "source": [
    "RAND_STATE = 34 # for reproducible shuffling learn what this is\n",
    "TT_RATIO = 0.3 # test/train\n",
    "#do two notebooks, one of standard scaler, and do power transformer on another one to work off two models,\n",
    "#need a step by step of this off of them, please. "
   ]
  },
  {
   "cell_type": "code",
   "execution_count": 8,
   "id": "0d723089",
   "metadata": {},
   "outputs": [
    {
     "data": {
      "text/html": [
       "<div>\n",
       "<style scoped>\n",
       "    .dataframe tbody tr th:only-of-type {\n",
       "        vertical-align: middle;\n",
       "    }\n",
       "\n",
       "    .dataframe tbody tr th {\n",
       "        vertical-align: top;\n",
       "    }\n",
       "\n",
       "    .dataframe thead th {\n",
       "        text-align: right;\n",
       "    }\n",
       "</style>\n",
       "<table border=\"1\" class=\"dataframe\">\n",
       "  <thead>\n",
       "    <tr style=\"text-align: right;\">\n",
       "      <th></th>\n",
       "      <th>customer_lifetime_value</th>\n",
       "      <th>income</th>\n",
       "      <th>monthly_premium_auto</th>\n",
       "      <th>months_since_last_claim</th>\n",
       "      <th>months_since_policy_inception</th>\n",
       "      <th>number_of_open_complaints</th>\n",
       "      <th>number_of_policies</th>\n",
       "    </tr>\n",
       "  </thead>\n",
       "  <tbody>\n",
       "    <tr>\n",
       "      <th>2705</th>\n",
       "      <td>4786</td>\n",
       "      <td>45515</td>\n",
       "      <td>61</td>\n",
       "      <td>10</td>\n",
       "      <td>33</td>\n",
       "      <td>0</td>\n",
       "      <td>9</td>\n",
       "    </tr>\n",
       "    <tr>\n",
       "      <th>2209</th>\n",
       "      <td>22445</td>\n",
       "      <td>80340</td>\n",
       "      <td>71</td>\n",
       "      <td>32</td>\n",
       "      <td>35</td>\n",
       "      <td>0</td>\n",
       "      <td>2</td>\n",
       "    </tr>\n",
       "    <tr>\n",
       "      <th>4004</th>\n",
       "      <td>6412</td>\n",
       "      <td>58776</td>\n",
       "      <td>83</td>\n",
       "      <td>20</td>\n",
       "      <td>50</td>\n",
       "      <td>2</td>\n",
       "      <td>4</td>\n",
       "    </tr>\n",
       "  </tbody>\n",
       "</table>\n",
       "</div>"
      ],
      "text/plain": [
       "      customer_lifetime_value  income  monthly_premium_auto  \\\n",
       "2705                     4786   45515                    61   \n",
       "2209                    22445   80340                    71   \n",
       "4004                     6412   58776                    83   \n",
       "\n",
       "      months_since_last_claim  months_since_policy_inception  \\\n",
       "2705                       10                             33   \n",
       "2209                       32                             35   \n",
       "4004                       20                             50   \n",
       "\n",
       "      number_of_open_complaints  number_of_policies  \n",
       "2705                          0                   9  \n",
       "2209                          0                   2  \n",
       "4004                          2                   4  "
      ]
     },
     "execution_count": 8,
     "metadata": {},
     "output_type": "execute_result"
    }
   ],
   "source": [
    "X_train, X_test, y_train, y_test = train_test_split(X, y, test_size=TT_RATIO, random_state=RAND_STATE)\n",
    "X_train = pd.DataFrame(X_train)\n",
    "X_test = pd.DataFrame(X_test)\n",
    "X_train.head(3)"
   ]
  },
  {
   "cell_type": "code",
   "execution_count": 9,
   "id": "61d90653",
   "metadata": {},
   "outputs": [],
   "source": [
    "na_idcs = X[X.isna().any(axis=1)].index\n",
    "X = pd.DataFrame(X).drop(na_idcs)\n",
    "y = pd.DataFrame(y).drop(na_idcs)"
   ]
  },
  {
   "cell_type": "markdown",
   "id": "33cd1fb4",
   "metadata": {},
   "source": [
    "Standardize the data - inside train set"
   ]
  },
  {
   "cell_type": "code",
   "execution_count": 10,
   "id": "eb793568",
   "metadata": {},
   "outputs": [],
   "source": [
    "from sklearn.preprocessing import PowerTransformer, StandardScaler, MinMaxScaler"
   ]
  },
  {
   "cell_type": "code",
   "execution_count": 11,
   "id": "230f4f57",
   "metadata": {},
   "outputs": [
    {
     "data": {
      "text/plain": [
       "array([[ 0.14444055, -0.71004053,  0.57629933, ..., -0.137927  ,\n",
       "        -0.41717964,  2.48904378],\n",
       "       [-0.52212155,  0.47663896,  0.51775548, ...,  0.54149453,\n",
       "        -0.41717964, -0.82274665],\n",
       "       [-0.51468192,  0.26713482,  0.48848355, ...,  0.5057355 ,\n",
       "        -0.41717964, -0.82274665],\n",
       "       ...,\n",
       "       [-0.12567519,  1.43123929, -0.12622686, ...,  1.43547023,\n",
       "        -0.41717964,  1.24712237],\n",
       "       [-0.7420198 ,  0.78648094, -0.56530573, ...,  1.04212092,\n",
       "         5.19673778, -0.82274665],\n",
       "       [-0.80196604, -0.8159415 , -0.91656882, ..., -0.67431241,\n",
       "        -0.41717964, -0.82274665]])"
      ]
     },
     "execution_count": 11,
     "metadata": {},
     "output_type": "execute_result"
    }
   ],
   "source": [
    "scalerr = StandardScaler()\n",
    "X_train_scaled = scalerr.fit_transform(X_train) #never scaling target variable\n",
    "X_test_scaled = scalerr.transform(X_test)\n",
    "X_test_scaled"
   ]
  },
  {
   "cell_type": "markdown",
   "id": "d0947bf3",
   "metadata": {},
   "source": [
    "Applying linear regression"
   ]
  },
  {
   "cell_type": "code",
   "execution_count": 12,
   "id": "d7e862e9",
   "metadata": {},
   "outputs": [],
   "source": [
    "#X_train_const_scaled = sm.add_constant(X_train_scaled.to_numpy()) # adding a constant\n",
    "\n",
    "#model = sm.OLS(y_train, X_train_const_scaled).fit() #this finds the beta and the coefficient - the parameters \n",
    "#predictions_train = model.predict(X_train_scaled)\n",
    "#puts into model into the equation so can get predictions so can compare to real value\n",
    "\n",
    "#X_test = sm.add_constant(X_test) # adding a constant means adding the intercept, giving it a constant\n",
    "#predictions_test = model.predict(X_test_const_scaled)\n",
    "#print_model = model.summary()\n",
    "#print(print_model)\n",
    "#work on below, seriously relearn this. with Matthias. alwats you stats lib for linear regression\n",
    "\n",
    "X_train_const = sm.add_constant(X_train_scaled) # adding a constant\n",
    "\n",
    "model = sm.OLS(y_train, X_train_const).fit() #this finds the beta and the coefficient - the paremeters \n",
    "predictions_train = model.predict(X_train_const)\n",
    "\n",
    "X_test_const = sm.add_constant(X_test_scaled) # adding a constant\n",
    "predictions_test = model.predict(X_test_const)\n",
    "print_model = model.summary()"
   ]
  },
  {
   "cell_type": "code",
   "execution_count": 13,
   "id": "ab5a70ae",
   "metadata": {},
   "outputs": [],
   "source": [
    "print_model"
   ]
  },
  {
   "cell_type": "code",
   "execution_count": 14,
   "id": "2b2b64c7",
   "metadata": {},
   "outputs": [
    {
     "data": {
      "text/plain": [
       "2705     236\n",
       "2209     511\n",
       "4004     478\n",
       "1898     768\n",
       "10016    450\n",
       "        ... \n",
       "5667     712\n",
       "324      806\n",
       "3157      35\n",
       "5993     422\n",
       "5242     552\n",
       "Name: total_claim_amount, Length: 7482, dtype: int64"
      ]
     },
     "execution_count": 14,
     "metadata": {},
     "output_type": "execute_result"
    }
   ],
   "source": [
    "y_train"
   ]
  },
  {
   "cell_type": "markdown",
   "id": "8f572f40",
   "metadata": {},
   "source": [
    "Apply linear regression."
   ]
  },
  {
   "cell_type": "code",
   "execution_count": 15,
   "id": "b0867353",
   "metadata": {},
   "outputs": [],
   "source": [
    "#y_train.shape"
   ]
  },
  {
   "cell_type": "code",
   "execution_count": 16,
   "id": "109f7f9c",
   "metadata": {},
   "outputs": [],
   "source": [
    "#y_train = np.asarray(y_train).reshape(1,-1)"
   ]
  },
  {
   "cell_type": "code",
   "execution_count": 32,
   "id": "e3627ecd",
   "metadata": {},
   "outputs": [],
   "source": [
    "model=LinearRegression()    # model\n",
    "fitted_model = model.fit(X_train_scaled, y_train)   # model train"
   ]
  },
  {
   "cell_type": "markdown",
   "id": "0cd3f4a2",
   "metadata": {},
   "source": [
    "Model Parameters"
   ]
  },
  {
   "cell_type": "code",
   "execution_count": 33,
   "id": "66e77eb1",
   "metadata": {},
   "outputs": [
    {
     "data": {
      "text/plain": [
       "array([-5.99598283e+00, -3.17043664e+01,  1.87098365e+02,  2.05563615e+00,\n",
       "       -6.47737048e-01, -5.95820844e-01, -1.54903758e-01])"
      ]
     },
     "execution_count": 33,
     "metadata": {},
     "output_type": "execute_result"
    }
   ],
   "source": [
    "fitted_model.coef_"
   ]
  },
  {
   "cell_type": "code",
   "execution_count": 34,
   "id": "d539d46d",
   "metadata": {},
   "outputs": [
    {
     "data": {
      "text/plain": [
       "435.8294573643411"
      ]
     },
     "execution_count": 34,
     "metadata": {},
     "output_type": "execute_result"
    }
   ],
   "source": [
    "fitted_model.intercept_"
   ]
  },
  {
   "cell_type": "code",
   "execution_count": 35,
   "id": "893e9f0d",
   "metadata": {},
   "outputs": [],
   "source": [
    "y_pred = pd.DataFrame(model.predict(X_test_scaled),columns = ['total_claim_amount'] )      # model prediction\n",
    "#y_pred_train =  pd.DataFrame(model.predict(X_train_scaled),columns = ['total_claim_amount'])\n",
    "#normal distribution for errors is how it should be for error distribution\n"
   ]
  },
  {
   "cell_type": "code",
   "execution_count": 38,
   "id": "16a31853",
   "metadata": {},
   "outputs": [
    {
     "ename": "AttributeError",
     "evalue": "'LinearRegression' object has no attribute 'summary'",
     "output_type": "error",
     "traceback": [
      "\u001b[1;31m---------------------------------------------------------------------------\u001b[0m",
      "\u001b[1;31mAttributeError\u001b[0m                            Traceback (most recent call last)",
      "\u001b[1;32m~\\AppData\\Local\\Temp\\ipykernel_27376\\3387147806.py\u001b[0m in \u001b[0;36m<module>\u001b[1;34m\u001b[0m\n\u001b[1;32m----> 1\u001b[1;33m \u001b[0mfitted_model\u001b[0m\u001b[1;33m.\u001b[0m\u001b[0msummary\u001b[0m\u001b[1;33m(\u001b[0m\u001b[1;33m)\u001b[0m\u001b[1;33m\u001b[0m\u001b[1;33m\u001b[0m\u001b[0m\n\u001b[0m",
      "\u001b[1;31mAttributeError\u001b[0m: 'LinearRegression' object has no attribute 'summary'"
     ]
    }
   ],
   "source": [
    "fitted_model.summary()\n"
   ]
  },
  {
   "cell_type": "markdown",
   "id": "6bcc00e6",
   "metadata": {},
   "source": [
    "### Model Validation\n",
    "#### Model Evaluation:\n",
    "MSE.\n",
    "\n",
    "RMSE.\n",
    "\n",
    "MAE.\n",
    "\n",
    "R2.\n",
    "\n",
    "Adjusted R2.\n",
    "\n",
    "Feature Importance.\n",
    "\n",
    "#### Model Iteration (Wednesday and Thursday)\n",
    "\n",
    "Please rerun the model after adding the hot encoded categorical variables as well as other numeric categorical variables (e.g. number of open complaintes).\n",
    "\n",
    "(Optional) Please rerun the model after removing the outliers and compare the results using R2 metric."
   ]
  },
  {
   "cell_type": "code",
   "execution_count": null,
   "id": "caa8162c",
   "metadata": {},
   "outputs": [],
   "source": []
  }
 ],
 "metadata": {
  "kernelspec": {
   "display_name": "Python 3 (ipykernel)",
   "language": "python",
   "name": "python3"
  },
  "language_info": {
   "codemirror_mode": {
    "name": "ipython",
    "version": 3
   },
   "file_extension": ".py",
   "mimetype": "text/x-python",
   "name": "python",
   "nbconvert_exporter": "python",
   "pygments_lexer": "ipython3",
   "version": "3.9.13"
  }
 },
 "nbformat": 4,
 "nbformat_minor": 5
}
