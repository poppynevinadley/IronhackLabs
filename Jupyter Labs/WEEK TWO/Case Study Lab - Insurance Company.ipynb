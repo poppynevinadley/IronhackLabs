{
 "cells": [
  {
   "cell_type": "markdown",
   "id": "c3c02714",
   "metadata": {
    "slideshow": {
     "slide_type": "slide"
    }
   },
   "source": [
    "# Data Analysis How-To Report\n",
    "\n",
    "\n",
    "\n"
   ]
  },
  {
   "cell_type": "markdown",
   "id": "20c55ff9",
   "metadata": {
    "slideshow": {
     "slide_type": "slide"
    }
   },
   "source": [
    "An overly lengthy yet detailed road to basic data analysis. \n",
    "To be edited before adding to portfolio.\n",
    "### Aggregation into one Data Frame"
   ]
  },
  {
   "cell_type": "code",
   "execution_count": 6,
   "id": "5f9d5242",
   "metadata": {
    "slideshow": {
     "slide_type": "slide"
    }
   },
   "outputs": [],
   "source": [
    "import numpy as np                                      \n",
    "import pandas as pd\n",
    "import matplotlib.pyplot as plt\n",
    "%matplotlib inline\n",
    "import seaborn as sns\n",
    "import statsmodels.api as sm\n",
    "from scipy.stats import boxcox\n",
    "pd.options.display.max_rows = 100"
   ]
  },
  {
   "cell_type": "code",
   "execution_count": 9,
   "id": "a45d060d",
   "metadata": {
    "slideshow": {
     "slide_type": "slide"
    }
   },
   "outputs": [
    {
     "ename": "FileNotFoundError",
     "evalue": "[Errno 2] No such file or directory: 'Data/file1.csv'",
     "output_type": "error",
     "traceback": [
      "\u001b[1;31m---------------------------------------------------------------------------\u001b[0m",
      "\u001b[1;31mFileNotFoundError\u001b[0m                         Traceback (most recent call last)",
      "\u001b[1;32m~\\AppData\\Local\\Temp\\ipykernel_7284\\3381435878.py\u001b[0m in \u001b[0;36m<module>\u001b[1;34m\u001b[0m\n\u001b[1;32m----> 1\u001b[1;33m \u001b[0mfile1\u001b[0m \u001b[1;33m=\u001b[0m \u001b[0mpd\u001b[0m\u001b[1;33m.\u001b[0m\u001b[0mread_csv\u001b[0m\u001b[1;33m(\u001b[0m\u001b[1;34m'Data/file1.csv'\u001b[0m\u001b[1;33m)\u001b[0m\u001b[1;33m\u001b[0m\u001b[1;33m\u001b[0m\u001b[0m\n\u001b[0m\u001b[0;32m      2\u001b[0m \u001b[0mfile2\u001b[0m \u001b[1;33m=\u001b[0m \u001b[0mpd\u001b[0m\u001b[1;33m.\u001b[0m\u001b[0mread_csv\u001b[0m\u001b[1;33m(\u001b[0m\u001b[1;34m'Data/file2.csv'\u001b[0m\u001b[1;33m)\u001b[0m\u001b[1;33m\u001b[0m\u001b[1;33m\u001b[0m\u001b[0m\n\u001b[0;32m      3\u001b[0m \u001b[0mfile3\u001b[0m \u001b[1;33m=\u001b[0m \u001b[0mpd\u001b[0m\u001b[1;33m.\u001b[0m\u001b[0mread_csv\u001b[0m\u001b[1;33m(\u001b[0m\u001b[1;34m'Data/file3.csv'\u001b[0m\u001b[1;33m)\u001b[0m\u001b[1;33m\u001b[0m\u001b[1;33m\u001b[0m\u001b[0m\n\u001b[0;32m      4\u001b[0m \u001b[1;33m\u001b[0m\u001b[0m\n",
      "\u001b[1;32m~\\Documents\\Ananconda\\lib\\site-packages\\pandas\\util\\_decorators.py\u001b[0m in \u001b[0;36mwrapper\u001b[1;34m(*args, **kwargs)\u001b[0m\n\u001b[0;32m    309\u001b[0m                     \u001b[0mstacklevel\u001b[0m\u001b[1;33m=\u001b[0m\u001b[0mstacklevel\u001b[0m\u001b[1;33m,\u001b[0m\u001b[1;33m\u001b[0m\u001b[1;33m\u001b[0m\u001b[0m\n\u001b[0;32m    310\u001b[0m                 )\n\u001b[1;32m--> 311\u001b[1;33m             \u001b[1;32mreturn\u001b[0m \u001b[0mfunc\u001b[0m\u001b[1;33m(\u001b[0m\u001b[1;33m*\u001b[0m\u001b[0margs\u001b[0m\u001b[1;33m,\u001b[0m \u001b[1;33m**\u001b[0m\u001b[0mkwargs\u001b[0m\u001b[1;33m)\u001b[0m\u001b[1;33m\u001b[0m\u001b[1;33m\u001b[0m\u001b[0m\n\u001b[0m\u001b[0;32m    312\u001b[0m \u001b[1;33m\u001b[0m\u001b[0m\n\u001b[0;32m    313\u001b[0m         \u001b[1;32mreturn\u001b[0m \u001b[0mwrapper\u001b[0m\u001b[1;33m\u001b[0m\u001b[1;33m\u001b[0m\u001b[0m\n",
      "\u001b[1;32m~\\Documents\\Ananconda\\lib\\site-packages\\pandas\\io\\parsers\\readers.py\u001b[0m in \u001b[0;36mread_csv\u001b[1;34m(filepath_or_buffer, sep, delimiter, header, names, index_col, usecols, squeeze, prefix, mangle_dupe_cols, dtype, engine, converters, true_values, false_values, skipinitialspace, skiprows, skipfooter, nrows, na_values, keep_default_na, na_filter, verbose, skip_blank_lines, parse_dates, infer_datetime_format, keep_date_col, date_parser, dayfirst, cache_dates, iterator, chunksize, compression, thousands, decimal, lineterminator, quotechar, quoting, doublequote, escapechar, comment, encoding, encoding_errors, dialect, error_bad_lines, warn_bad_lines, on_bad_lines, delim_whitespace, low_memory, memory_map, float_precision, storage_options)\u001b[0m\n\u001b[0;32m    676\u001b[0m     \u001b[0mkwds\u001b[0m\u001b[1;33m.\u001b[0m\u001b[0mupdate\u001b[0m\u001b[1;33m(\u001b[0m\u001b[0mkwds_defaults\u001b[0m\u001b[1;33m)\u001b[0m\u001b[1;33m\u001b[0m\u001b[1;33m\u001b[0m\u001b[0m\n\u001b[0;32m    677\u001b[0m \u001b[1;33m\u001b[0m\u001b[0m\n\u001b[1;32m--> 678\u001b[1;33m     \u001b[1;32mreturn\u001b[0m \u001b[0m_read\u001b[0m\u001b[1;33m(\u001b[0m\u001b[0mfilepath_or_buffer\u001b[0m\u001b[1;33m,\u001b[0m \u001b[0mkwds\u001b[0m\u001b[1;33m)\u001b[0m\u001b[1;33m\u001b[0m\u001b[1;33m\u001b[0m\u001b[0m\n\u001b[0m\u001b[0;32m    679\u001b[0m \u001b[1;33m\u001b[0m\u001b[0m\n\u001b[0;32m    680\u001b[0m \u001b[1;33m\u001b[0m\u001b[0m\n",
      "\u001b[1;32m~\\Documents\\Ananconda\\lib\\site-packages\\pandas\\io\\parsers\\readers.py\u001b[0m in \u001b[0;36m_read\u001b[1;34m(filepath_or_buffer, kwds)\u001b[0m\n\u001b[0;32m    573\u001b[0m \u001b[1;33m\u001b[0m\u001b[0m\n\u001b[0;32m    574\u001b[0m     \u001b[1;31m# Create the parser.\u001b[0m\u001b[1;33m\u001b[0m\u001b[1;33m\u001b[0m\u001b[0m\n\u001b[1;32m--> 575\u001b[1;33m     \u001b[0mparser\u001b[0m \u001b[1;33m=\u001b[0m \u001b[0mTextFileReader\u001b[0m\u001b[1;33m(\u001b[0m\u001b[0mfilepath_or_buffer\u001b[0m\u001b[1;33m,\u001b[0m \u001b[1;33m**\u001b[0m\u001b[0mkwds\u001b[0m\u001b[1;33m)\u001b[0m\u001b[1;33m\u001b[0m\u001b[1;33m\u001b[0m\u001b[0m\n\u001b[0m\u001b[0;32m    576\u001b[0m \u001b[1;33m\u001b[0m\u001b[0m\n\u001b[0;32m    577\u001b[0m     \u001b[1;32mif\u001b[0m \u001b[0mchunksize\u001b[0m \u001b[1;32mor\u001b[0m \u001b[0miterator\u001b[0m\u001b[1;33m:\u001b[0m\u001b[1;33m\u001b[0m\u001b[1;33m\u001b[0m\u001b[0m\n",
      "\u001b[1;32m~\\Documents\\Ananconda\\lib\\site-packages\\pandas\\io\\parsers\\readers.py\u001b[0m in \u001b[0;36m__init__\u001b[1;34m(self, f, engine, **kwds)\u001b[0m\n\u001b[0;32m    930\u001b[0m \u001b[1;33m\u001b[0m\u001b[0m\n\u001b[0;32m    931\u001b[0m         \u001b[0mself\u001b[0m\u001b[1;33m.\u001b[0m\u001b[0mhandles\u001b[0m\u001b[1;33m:\u001b[0m \u001b[0mIOHandles\u001b[0m \u001b[1;33m|\u001b[0m \u001b[1;32mNone\u001b[0m \u001b[1;33m=\u001b[0m \u001b[1;32mNone\u001b[0m\u001b[1;33m\u001b[0m\u001b[1;33m\u001b[0m\u001b[0m\n\u001b[1;32m--> 932\u001b[1;33m         \u001b[0mself\u001b[0m\u001b[1;33m.\u001b[0m\u001b[0m_engine\u001b[0m \u001b[1;33m=\u001b[0m \u001b[0mself\u001b[0m\u001b[1;33m.\u001b[0m\u001b[0m_make_engine\u001b[0m\u001b[1;33m(\u001b[0m\u001b[0mf\u001b[0m\u001b[1;33m,\u001b[0m \u001b[0mself\u001b[0m\u001b[1;33m.\u001b[0m\u001b[0mengine\u001b[0m\u001b[1;33m)\u001b[0m\u001b[1;33m\u001b[0m\u001b[1;33m\u001b[0m\u001b[0m\n\u001b[0m\u001b[0;32m    933\u001b[0m \u001b[1;33m\u001b[0m\u001b[0m\n\u001b[0;32m    934\u001b[0m     \u001b[1;32mdef\u001b[0m \u001b[0mclose\u001b[0m\u001b[1;33m(\u001b[0m\u001b[0mself\u001b[0m\u001b[1;33m)\u001b[0m\u001b[1;33m:\u001b[0m\u001b[1;33m\u001b[0m\u001b[1;33m\u001b[0m\u001b[0m\n",
      "\u001b[1;32m~\\Documents\\Ananconda\\lib\\site-packages\\pandas\\io\\parsers\\readers.py\u001b[0m in \u001b[0;36m_make_engine\u001b[1;34m(self, f, engine)\u001b[0m\n\u001b[0;32m   1214\u001b[0m             \u001b[1;31m# \"Union[str, PathLike[str], ReadCsvBuffer[bytes], ReadCsvBuffer[str]]\"\u001b[0m\u001b[1;33m\u001b[0m\u001b[1;33m\u001b[0m\u001b[0m\n\u001b[0;32m   1215\u001b[0m             \u001b[1;31m# , \"str\", \"bool\", \"Any\", \"Any\", \"Any\", \"Any\", \"Any\"\u001b[0m\u001b[1;33m\u001b[0m\u001b[1;33m\u001b[0m\u001b[0m\n\u001b[1;32m-> 1216\u001b[1;33m             self.handles = get_handle(  # type: ignore[call-overload]\n\u001b[0m\u001b[0;32m   1217\u001b[0m                 \u001b[0mf\u001b[0m\u001b[1;33m,\u001b[0m\u001b[1;33m\u001b[0m\u001b[1;33m\u001b[0m\u001b[0m\n\u001b[0;32m   1218\u001b[0m                 \u001b[0mmode\u001b[0m\u001b[1;33m,\u001b[0m\u001b[1;33m\u001b[0m\u001b[1;33m\u001b[0m\u001b[0m\n",
      "\u001b[1;32m~\\Documents\\Ananconda\\lib\\site-packages\\pandas\\io\\common.py\u001b[0m in \u001b[0;36mget_handle\u001b[1;34m(path_or_buf, mode, encoding, compression, memory_map, is_text, errors, storage_options)\u001b[0m\n\u001b[0;32m    784\u001b[0m         \u001b[1;32mif\u001b[0m \u001b[0mioargs\u001b[0m\u001b[1;33m.\u001b[0m\u001b[0mencoding\u001b[0m \u001b[1;32mand\u001b[0m \u001b[1;34m\"b\"\u001b[0m \u001b[1;32mnot\u001b[0m \u001b[1;32min\u001b[0m \u001b[0mioargs\u001b[0m\u001b[1;33m.\u001b[0m\u001b[0mmode\u001b[0m\u001b[1;33m:\u001b[0m\u001b[1;33m\u001b[0m\u001b[1;33m\u001b[0m\u001b[0m\n\u001b[0;32m    785\u001b[0m             \u001b[1;31m# Encoding\u001b[0m\u001b[1;33m\u001b[0m\u001b[1;33m\u001b[0m\u001b[0m\n\u001b[1;32m--> 786\u001b[1;33m             handle = open(\n\u001b[0m\u001b[0;32m    787\u001b[0m                 \u001b[0mhandle\u001b[0m\u001b[1;33m,\u001b[0m\u001b[1;33m\u001b[0m\u001b[1;33m\u001b[0m\u001b[0m\n\u001b[0;32m    788\u001b[0m                 \u001b[0mioargs\u001b[0m\u001b[1;33m.\u001b[0m\u001b[0mmode\u001b[0m\u001b[1;33m,\u001b[0m\u001b[1;33m\u001b[0m\u001b[1;33m\u001b[0m\u001b[0m\n",
      "\u001b[1;31mFileNotFoundError\u001b[0m: [Errno 2] No such file or directory: 'Data/file1.csv'"
     ]
    }
   ],
   "source": [
    "file1 = pd.read_csv('Data/file1.csv')\n",
    "file2 = pd.read_csv('Data/file2.csv')\n",
    "file3 = pd.read_csv('Data/file3.csv')\n",
    "   "
   ]
  },
  {
   "cell_type": "code",
   "execution_count": null,
   "id": "2d7b0128",
   "metadata": {
    "slideshow": {
     "slide_type": "slide"
    }
   },
   "outputs": [],
   "source": [
    "file1.head()"
   ]
  },
  {
   "cell_type": "markdown",
   "id": "cbd845a3",
   "metadata": {
    "slideshow": {
     "slide_type": "slide"
    }
   },
   "source": [
    "### Unification of Columns"
   ]
  },
  {
   "cell_type": "code",
   "execution_count": null,
   "id": "74f65f13",
   "metadata": {
    "slideshow": {
     "slide_type": "slide"
    }
   },
   "outputs": [],
   "source": [
    "list(file1.columns)           #check all columns so can see if different to other files and if need to be changed & unified."
   ]
  },
  {
   "cell_type": "code",
   "execution_count": null,
   "id": "f3532ae4",
   "metadata": {
    "slideshow": {
     "slide_type": "slide"
    }
   },
   "outputs": [],
   "source": [
    "list(file2.columns)"
   ]
  },
  {
   "cell_type": "code",
   "execution_count": null,
   "id": "4b266883",
   "metadata": {
    "slideshow": {
     "slide_type": "slide"
    }
   },
   "outputs": [],
   "source": [
    "list(file3.columns)"
   ]
  },
  {
   "cell_type": "markdown",
   "id": "04dfb6ff",
   "metadata": {
    "slideshow": {
     "slide_type": "slide"
    }
   },
   "source": [
    "#### Renaming of Columns"
   ]
  },
  {
   "cell_type": "code",
   "execution_count": null,
   "id": "9dbc6acb",
   "metadata": {
    "slideshow": {
     "slide_type": "slide"
    }
   },
   "outputs": [],
   "source": [
    "file1.rename(columns={'ST':'State'}, inplace=True)              #change the differences found to unify columns\n",
    "file2.rename(columns={'ST':'State'}, inplace=True)\n",
    "list(file1.columns)                                             #check if worked"
   ]
  },
  {
   "cell_type": "code",
   "execution_count": null,
   "id": "067238b1",
   "metadata": {
    "slideshow": {
     "slide_type": "slide"
    }
   },
   "outputs": [],
   "source": [
    "file2.rename(columns={'GENDER':'Gender'}, inplace=True)\n",
    "file3.rename(columns={'GENDER':'Gender'}, inplace=True)\n",
    "list(file2.columns)"
   ]
  },
  {
   "cell_type": "markdown",
   "id": "366999ad",
   "metadata": {
    "slideshow": {
     "slide_type": "slide"
    }
   },
   "source": [
    "#### Re-ordering of columns"
   ]
  },
  {
   "cell_type": "code",
   "execution_count": null,
   "id": "7216dc4f",
   "metadata": {
    "slideshow": {
     "slide_type": "slide"
    }
   },
   "outputs": [],
   "source": [
    "file2 = file2 [['Customer',                                       #reorder as seen above that they are not in the same order\n",
    " 'State',\n",
    " 'Gender',\n",
    " 'Education',\n",
    " 'Customer Lifetime Value',\n",
    " 'Income',\n",
    " 'Monthly Premium Auto',\n",
    " 'Number of Open Complaints',\n",
    " 'Policy Type',\n",
    " 'Vehicle Class', 'Total Claim Amount']]\n",
    "list(file2.columns)"
   ]
  },
  {
   "cell_type": "code",
   "execution_count": null,
   "id": "19ca68bd",
   "metadata": {
    "slideshow": {
     "slide_type": "slide"
    }
   },
   "outputs": [],
   "source": [
    "file3 = file3 [['Customer',\n",
    " 'State',\n",
    " 'Gender',\n",
    " 'Education',\n",
    " 'Customer Lifetime Value',\n",
    " 'Income',\n",
    " 'Monthly Premium Auto',\n",
    " 'Number of Open Complaints',\n",
    " 'Policy Type',\n",
    " 'Vehicle Class', 'Total Claim Amount']]\n",
    "list(file3.columns)"
   ]
  },
  {
   "cell_type": "markdown",
   "id": "8ab7482f",
   "metadata": {
    "slideshow": {
     "slide_type": "slide"
    }
   },
   "source": [
    "#### Concatenating Files  "
   ]
  },
  {
   "cell_type": "code",
   "execution_count": null,
   "id": "760e90d1",
   "metadata": {
    "scrolled": true,
    "slideshow": {
     "slide_type": "slide"
    }
   },
   "outputs": [],
   "source": [
    "df = pd.concat([file1,file2,file3], axis=0)\n",
    "df"
   ]
  },
  {
   "cell_type": "code",
   "execution_count": null,
   "id": "5edb22c3",
   "metadata": {
    "slideshow": {
     "slide_type": "slide"
    }
   },
   "outputs": [],
   "source": [
    "df = df.reset_index(drop=True)                                             #resetting index as needed\n",
    "df"
   ]
  },
  {
   "cell_type": "markdown",
   "id": "c4d09234",
   "metadata": {
    "slideshow": {
     "slide_type": "slide"
    }
   },
   "source": [
    "#### Standardizing header names"
   ]
  },
  {
   "cell_type": "code",
   "execution_count": null,
   "id": "e9514930",
   "metadata": {
    "slideshow": {
     "slide_type": "slide"
    }
   },
   "outputs": [],
   "source": [
    "def lower_case_column_names(df): \n",
    "    df.columns=[i.lower() for i in df.columns]                    #in list comprehension form as takes less processing power\n",
    "    return df "
   ]
  },
  {
   "cell_type": "code",
   "execution_count": null,
   "id": "0829095c",
   "metadata": {
    "slideshow": {
     "slide_type": "slide"
    }
   },
   "outputs": [],
   "source": [
    "df=lower_case_column_names(df) \n",
    "list(df.columns)"
   ]
  },
  {
   "cell_type": "markdown",
   "id": "00104539",
   "metadata": {
    "slideshow": {
     "slide_type": "slide"
    }
   },
   "source": [
    "#### Removing Duplicates"
   ]
  },
  {
   "cell_type": "code",
   "execution_count": null,
   "id": "c7b3c398",
   "metadata": {
    "scrolled": true,
    "slideshow": {
     "slide_type": "slide"
    }
   },
   "outputs": [],
   "source": [
    "df = df.loc[:,~df.columns.duplicated()].copy() \n",
    "df"
   ]
  },
  {
   "cell_type": "markdown",
   "id": "4738279e",
   "metadata": {
    "slideshow": {
     "slide_type": "slide"
    }
   },
   "source": [
    "##### Deleting and rearranging columns \n"
   ]
  },
  {
   "cell_type": "code",
   "execution_count": null,
   "id": "ddde36f6",
   "metadata": {
    "slideshow": {
     "slide_type": "slide"
    }
   },
   "outputs": [],
   "source": [
    "def drop_columns(df):\n",
    "    df.drop(columns=[\"customer\"], inplace=True) \n",
    "    return df\n",
    "drop_columns(df)"
   ]
  },
  {
   "cell_type": "markdown",
   "id": "6513e5e9",
   "metadata": {
    "slideshow": {
     "slide_type": "slide"
    }
   },
   "source": [
    "#### Data Types\n",
    "Hint: remove the percentage from the customer lifetime value and truncate it to an integer value.\n",
    "Clean the number of open complaints and extract the middle number which is changing between records. Pay attention that the number of open complaints is a categorical feature."
   ]
  },
  {
   "cell_type": "code",
   "execution_count": null,
   "id": "0e6fc059",
   "metadata": {
    "slideshow": {
     "slide_type": "slide"
    }
   },
   "outputs": [],
   "source": [
    "df.info()                                                                                      #to check for data types "
   ]
  },
  {
   "cell_type": "markdown",
   "id": "b7af0f7c",
   "metadata": {
    "slideshow": {
     "slide_type": "slide"
    }
   },
   "source": [
    "#### Changing to String first"
   ]
  },
  {
   "cell_type": "code",
   "execution_count": null,
   "id": "4baa35c3",
   "metadata": {
    "slideshow": {
     "slide_type": "slide"
    }
   },
   "outputs": [],
   "source": [
    "df['customer lifetime value'] = df['customer lifetime value'].astype('string')  #as both were objects & should be integers\n",
    "\n",
    "df['number of open complaints'] = df['number of open complaints'].astype('string')"
   ]
  },
  {
   "cell_type": "code",
   "execution_count": null,
   "id": "2428a100",
   "metadata": {
    "slideshow": {
     "slide_type": "slide"
    }
   },
   "outputs": [],
   "source": [
    "df.info()"
   ]
  },
  {
   "cell_type": "markdown",
   "id": "a7883846",
   "metadata": {
    "slideshow": {
     "slide_type": "slide"
    }
   },
   "source": [
    "#### Removing '%'s"
   ]
  },
  {
   "cell_type": "code",
   "execution_count": null,
   "id": "049f2c84",
   "metadata": {
    "scrolled": true,
    "slideshow": {
     "slide_type": "slide"
    }
   },
   "outputs": [],
   "source": [
    "df['customer lifetime value'] = df['customer lifetime value'].str.replace('%','')  #checked that doesn't add more NaN values\n",
    "\n",
    "df['number of open complaints'] = df['number of open complaints'].str.replace('%','')\n",
    "df"
   ]
  },
  {
   "cell_type": "markdown",
   "id": "f756effb",
   "metadata": {
    "slideshow": {
     "slide_type": "slide"
    }
   },
   "source": [
    "#### Clean & Extract Middle Number\n",
    "\n",
    "Before changing to Float to Int, removing //.\n",
    "How else to clean the number of open complaints? \n",
    "Pay attention that the number of open complaints is a categorical feature.\n",
    "\n",
    "##### Options to explore:\n",
    "\n",
    "#a) \n",
    "import re\n",
    "\n",
    "for in in df['Number of complaints']:\n",
    "    if type (i) == str:\n",
    "        x = re.search(r'/(\\d+)/', i')\n",
    "        df['Number of open complaints'] = x.group(1)   \n",
    "    else:\n",
    "        df['Number of open complaints'] = x  \n",
    "\n",
    "#b) \n",
    "apply.function\n",
    "\n",
    "#c)\n",
    "df = df['Number of complaints'].apply(lamda x: str(x).split('/')[0].split('/')[1]                     #regex similar to split "
   ]
  },
  {
   "cell_type": "code",
   "execution_count": null,
   "id": "b5d782eb",
   "metadata": {
    "slideshow": {
     "slide_type": "slide"
    }
   },
   "outputs": [],
   "source": [
    "df['number of open complaints'] = df['number of open complaints'].astype(str).str.replace('(.*)/0/(.*)','0', regex=True)\n",
    "df['number of open complaints'] = df['number of open complaints'].astype(str).str.replace('(.*)/2/(.*)','2', regex=True)\n",
    "df['number of open complaints'] = df['number of open complaints'].astype(str).str.replace('(.*)/1/(.*)','1', regex=True)\n",
    "df['number of open complaints'] = df['number of open complaints'].astype(str).str.replace('(.*)/3/(.*)','3', regex=True)\n",
    "df['number of open complaints'] = df['number of open complaints'].astype(str).str.replace('(.*)/5/(.*)','5', regex=True)\n",
    "\n",
    "df"
   ]
  },
  {
   "cell_type": "markdown",
   "id": "6574b5a6",
   "metadata": {
    "slideshow": {
     "slide_type": "slide"
    }
   },
   "source": [
    "#### Changing to Float then to Integer"
   ]
  },
  {
   "cell_type": "code",
   "execution_count": null,
   "id": "9fea15c6",
   "metadata": {
    "slideshow": {
     "slide_type": "slide"
    }
   },
   "outputs": [],
   "source": [
    "df['customer lifetime value'] =  pd.to_numeric(df['customer lifetime value'], errors='coerce') #changes it to float\n",
    "df.info()"
   ]
  },
  {
   "cell_type": "code",
   "execution_count": null,
   "id": "4892fb78",
   "metadata": {
    "slideshow": {
     "slide_type": "slide"
    }
   },
   "outputs": [],
   "source": [
    "#change nan of mean of columns in order to make into an integer\n",
    "df['customer lifetime value'] = df['customer lifetime value'].fillna(df['customer lifetime value'].mean())"
   ]
  },
  {
   "cell_type": "code",
   "execution_count": null,
   "id": "2acf4a8c",
   "metadata": {
    "slideshow": {
     "slide_type": "slide"
    }
   },
   "outputs": [],
   "source": [
    "df['customer lifetime value'] = df['customer lifetime value'].astype(int) #change to integers\n",
    "df.select_dtypes(int)"
   ]
  },
  {
   "cell_type": "code",
   "execution_count": null,
   "id": "1a0cb3be",
   "metadata": {
    "slideshow": {
     "slide_type": "slide"
    }
   },
   "outputs": [],
   "source": [
    "df.info()                                                                     #to check if an integer"
   ]
  },
  {
   "cell_type": "code",
   "execution_count": null,
   "id": "83c91938",
   "metadata": {
    "slideshow": {
     "slide_type": "slide"
    }
   },
   "outputs": [],
   "source": [
    "df['number of open complaints'] =  pd.to_numeric(df['number of open complaints'], errors='coerce') #now a float"
   ]
  },
  {
   "cell_type": "code",
   "execution_count": null,
   "id": "466f07ca",
   "metadata": {
    "slideshow": {
     "slide_type": "slide"
    }
   },
   "outputs": [],
   "source": [
    "df.info() "
   ]
  },
  {
   "cell_type": "code",
   "execution_count": null,
   "id": "89f3f459",
   "metadata": {
    "slideshow": {
     "slide_type": "slide"
    }
   },
   "outputs": [],
   "source": [
    "df['number of open complaints'] = df['number of open complaints'].fillna(0)"
   ]
  },
  {
   "cell_type": "code",
   "execution_count": null,
   "id": "6dae42af",
   "metadata": {
    "slideshow": {
     "slide_type": "slide"
    }
   },
   "outputs": [],
   "source": [
    "df"
   ]
  },
  {
   "cell_type": "code",
   "execution_count": null,
   "id": "efded736",
   "metadata": {
    "slideshow": {
     "slide_type": "slide"
    }
   },
   "outputs": [],
   "source": [
    "df['number of open complaints'] = df['number of open complaints'].astype(int) \n"
   ]
  },
  {
   "cell_type": "code",
   "execution_count": null,
   "id": "9d7f2441",
   "metadata": {
    "slideshow": {
     "slide_type": "slide"
    }
   },
   "outputs": [],
   "source": [
    "df.info()"
   ]
  },
  {
   "cell_type": "markdown",
   "id": "233f96a5",
   "metadata": {
    "slideshow": {
     "slide_type": "slide"
    }
   },
   "source": [
    "#### FILTERING & CORRECTING\n",
    "\n",
    "\n"
   ]
  },
  {
   "cell_type": "code",
   "execution_count": null,
   "id": "a2fef373",
   "metadata": {
    "slideshow": {
     "slide_type": "slide"
    }
   },
   "outputs": [],
   "source": [
    "df.gender.unique()"
   ]
  },
  {
   "cell_type": "code",
   "execution_count": null,
   "id": "d557ef40",
   "metadata": {
    "slideshow": {
     "slide_type": "slide"
    }
   },
   "outputs": [],
   "source": [
    "def clean_gender(x):\n",
    "    if x in ['M','male']:\n",
    "        return 'Male'\n",
    "    elif x in ['F', 'female',\"Femal\"]:\n",
    "        return 'Female'\n",
    "    elif np.nan:  pass\n",
    "    else:\n",
    "        return 'U' #if x if it contains what's in [], then return."
   ]
  },
  {
   "cell_type": "code",
   "execution_count": null,
   "id": "4da5edce",
   "metadata": {
    "slideshow": {
     "slide_type": "slide"
    }
   },
   "outputs": [],
   "source": [
    "df['gender'] = list(map(clean_gender, df['gender'])) \n",
    "df"
   ]
  },
  {
   "cell_type": "code",
   "execution_count": null,
   "id": "7a0a63aa",
   "metadata": {
    "slideshow": {
     "slide_type": "slide"
    }
   },
   "outputs": [],
   "source": [
    "df.state.unique()"
   ]
  },
  {
   "cell_type": "code",
   "execution_count": null,
   "id": "a5bf5c7a",
   "metadata": {
    "slideshow": {
     "slide_type": "slide"
    }
   },
   "outputs": [],
   "source": [
    "def clean_state(x):\n",
    "    if x in ['AZ','Arizona']:\n",
    "        return 'Arizona'\n",
    "    elif x in ['WA', 'Washington']:\n",
    "        return 'Washington'\n",
    "    elif x in ['Cali', 'California']:\n",
    "        return 'California'\n",
    "    elif x in ['Nevada']:\n",
    "        return 'Nevada'\n",
    "    elif x in ['Oregon']:\n",
    "        return 'Oregon'\n",
    "    elif np.nan:  pass\n",
    "    else:\n",
    "        return 'U' #if x if it contains what's in [], then return."
   ]
  },
  {
   "cell_type": "code",
   "execution_count": null,
   "id": "261cbaf0",
   "metadata": {
    "slideshow": {
     "slide_type": "slide"
    }
   },
   "outputs": [],
   "source": [
    "df['state'] = list(map(clean_state, df['state'])) \n",
    "df"
   ]
  },
  {
   "cell_type": "code",
   "execution_count": null,
   "id": "60eac904",
   "metadata": {
    "slideshow": {
     "slide_type": "slide"
    }
   },
   "outputs": [],
   "source": [
    "df.info()"
   ]
  },
  {
   "cell_type": "markdown",
   "id": "2dc26b0c",
   "metadata": {
    "slideshow": {
     "slide_type": "slide"
    }
   },
   "source": [
    "# Second part"
   ]
  },
  {
   "cell_type": "markdown",
   "id": "b62501b0",
   "metadata": {
    "slideshow": {
     "slide_type": "slide"
    }
   },
   "source": [
    "### Replacement of Null Values  \n",
    "\n",
    "#### Check for null % of numerical columns"
   ]
  },
  {
   "cell_type": "markdown",
   "id": "8aba503c",
   "metadata": {},
   "source": [
    "#### Needing Guidance "
   ]
  },
  {
   "cell_type": "code",
   "execution_count": null,
   "id": "4a39a62b",
   "metadata": {
    "slideshow": {
     "slide_type": "slide"
    }
   },
   "outputs": [],
   "source": [
    "#see whether should drop them then if not change missing values and replace 0s\n",
    "\n",
    "nulls_df = df(round(df.isna().sum()/len(df),4)*100) #name of column and % of null values inside and you decide whether to \n",
    "#drop it threshold if problem has around 20-30% then drop the column unless specified otherwise. \n",
    "nulls_df = nulls_df.reset_index()\n",
    "nulls_df.columns = ['header_name', 'percent_nulls']\n",
    "\n",
    "df.isna().value.counts                                      #do it per column then to find out if need to drop the columns\n",
    "\n",
    "nulls_df"
   ]
  },
  {
   "cell_type": "code",
   "execution_count": null,
   "id": "0944a033",
   "metadata": {
    "slideshow": {
     "slide_type": "slide"
    }
   },
   "outputs": [],
   "source": [
    "df['income'] = df['income'].fillna(df['income'].mean())\n",
    "df['income'] = df['income'].replace([0], df['income'].mean())\n",
    "\n",
    "df['monthly premium auto'] = df['monthly premium auto'].fillna(df['monthly premium auto'].mean())\n",
    "df['monthly premium auto'] = df['monthly premium auto'].replace([0], df['monthly premium auto'.mean())\n",
    "\n",
    "df['total claim amount'] = df['total claim amount'].fillna(df['total claim amount'].mean())\n",
    "df['total claim amount'] = df['total claim amount'].replace([0], df['total claim amount'].mean())"
   ]
  },
  {
   "cell_type": "code",
   "execution_count": null,
   "id": "83185001",
   "metadata": {
    "slideshow": {
     "slide_type": "slide"
    }
   },
   "outputs": [],
   "source": [
    "df.info()                                                #then see how to see if they are non-null or not and how"
   ]
  },
  {
   "cell_type": "code",
   "execution_count": null,
   "id": "0728dd4a",
   "metadata": {
    "slideshow": {
     "slide_type": "slide"
    }
   },
   "outputs": [],
   "source": [
    "df"
   ]
  },
  {
   "cell_type": "markdown",
   "id": "0204d2b0",
   "metadata": {
    "slideshow": {
     "slide_type": "slide"
    }
   },
   "source": [
    "## Bucketing the data\n",
    "\n",
    "As: Arizona + Nevada = Central, California = West Region, Washington = East, Oregon = North West."
   ]
  },
  {
   "cell_type": "code",
   "execution_count": null,
   "id": "c72a3a7b",
   "metadata": {
    "slideshow": {
     "slide_type": "slide"
    }
   },
   "outputs": [],
   "source": [
    "df.state.unique() #up to you to have new column called region, extra column in data, or rename 'region'"
   ]
  },
  {
   "cell_type": "code",
   "execution_count": null,
   "id": "a8259e47",
   "metadata": {
    "slideshow": {
     "slide_type": "slide"
    }
   },
   "outputs": [],
   "source": [
    "def state_zoning(x):\n",
    "    if x in ['Arizona', 'Nevada']:\n",
    "        return 'Central'\n",
    "    elif x in ['California']:\n",
    "        return 'West Region'\n",
    "    elif x in ['Washington']:\n",
    "        return 'East Region'\n",
    "    elif x in ['Oregon']:\n",
    "        return 'North West'\n",
    "    elif np.nan:  pass\n",
    "    else:\n",
    "        return 'U'\n",
    "    \n",
    "df['state'] = list(map(state_zoning, df['state'])) \n",
    "df"
   ]
  },
  {
   "cell_type": "markdown",
   "id": "ac244635",
   "metadata": {
    "slideshow": {
     "slide_type": "slide"
    }
   },
   "source": [
    "#### Another option to explore: \n",
    "\n",
    "df['State Zones'] = pd.cut(df['State'], bins=['Arizona', 'Nevada', 'California', 'Washington', 'Oregon', 'AZ',\n",
    "       'WA', 'Cali'], labels=['Central', 'West Region', 'Young Adult', 'Adult', 'Elder'])\n",
    "print(df)\n",
    "print(df[['Customer ID', 'Gender', 'Age', 'age_category']])"
   ]
  },
  {
   "cell_type": "markdown",
   "id": "a5653878",
   "metadata": {
    "slideshow": {
     "slide_type": "slide"
    }
   },
   "source": [
    "#### Rounding decimals"
   ]
  },
  {
   "cell_type": "code",
   "execution_count": null,
   "id": "ee281ab1",
   "metadata": {
    "slideshow": {
     "slide_type": "slide"
    }
   },
   "outputs": [],
   "source": [
    "df['total claim amount'] = df['total claim amount'].round(decimals = 1)\n",
    "df['income'] = df['income'].round(decimals = 0)\n",
    "df"
   ]
  },
  {
   "cell_type": "markdown",
   "id": "087353d2",
   "metadata": {
    "slideshow": {
     "slide_type": "slide"
    }
   },
   "source": [
    "# THIRD PART"
   ]
  },
  {
   "cell_type": "code",
   "execution_count": 3,
   "id": "59bc6a13",
   "metadata": {
    "slideshow": {
     "slide_type": "slide"
    }
   },
   "outputs": [
    {
     "ename": "FileNotFoundError",
     "evalue": "[Errno 2] No such file or directory: './Data/Data_Marketing_Customer_Analysis_Round3.csv'",
     "output_type": "error",
     "traceback": [
      "\u001b[1;31m---------------------------------------------------------------------------\u001b[0m",
      "\u001b[1;31mFileNotFoundError\u001b[0m                         Traceback (most recent call last)",
      "\u001b[1;32m~\\AppData\\Local\\Temp\\ipykernel_7284\\3990331002.py\u001b[0m in \u001b[0;36m<module>\u001b[1;34m\u001b[0m\n\u001b[1;32m----> 1\u001b[1;33m \u001b[0mfile3\u001b[0m \u001b[1;33m=\u001b[0m \u001b[0mpd\u001b[0m\u001b[1;33m.\u001b[0m\u001b[0mread_csv\u001b[0m\u001b[1;33m(\u001b[0m\u001b[1;34m'./Data/Data_Marketing_Customer_Analysis_Round3.csv'\u001b[0m\u001b[1;33m)\u001b[0m\u001b[1;33m\u001b[0m\u001b[1;33m\u001b[0m\u001b[0m\n\u001b[0m\u001b[0;32m      2\u001b[0m \u001b[0mfile3\u001b[0m\u001b[1;33m.\u001b[0m\u001b[0mhead\u001b[0m\u001b[1;33m(\u001b[0m\u001b[1;33m)\u001b[0m\u001b[1;33m\u001b[0m\u001b[1;33m\u001b[0m\u001b[0m\n",
      "\u001b[1;32m~\\Documents\\Ananconda\\lib\\site-packages\\pandas\\util\\_decorators.py\u001b[0m in \u001b[0;36mwrapper\u001b[1;34m(*args, **kwargs)\u001b[0m\n\u001b[0;32m    309\u001b[0m                     \u001b[0mstacklevel\u001b[0m\u001b[1;33m=\u001b[0m\u001b[0mstacklevel\u001b[0m\u001b[1;33m,\u001b[0m\u001b[1;33m\u001b[0m\u001b[1;33m\u001b[0m\u001b[0m\n\u001b[0;32m    310\u001b[0m                 )\n\u001b[1;32m--> 311\u001b[1;33m             \u001b[1;32mreturn\u001b[0m \u001b[0mfunc\u001b[0m\u001b[1;33m(\u001b[0m\u001b[1;33m*\u001b[0m\u001b[0margs\u001b[0m\u001b[1;33m,\u001b[0m \u001b[1;33m**\u001b[0m\u001b[0mkwargs\u001b[0m\u001b[1;33m)\u001b[0m\u001b[1;33m\u001b[0m\u001b[1;33m\u001b[0m\u001b[0m\n\u001b[0m\u001b[0;32m    312\u001b[0m \u001b[1;33m\u001b[0m\u001b[0m\n\u001b[0;32m    313\u001b[0m         \u001b[1;32mreturn\u001b[0m \u001b[0mwrapper\u001b[0m\u001b[1;33m\u001b[0m\u001b[1;33m\u001b[0m\u001b[0m\n",
      "\u001b[1;32m~\\Documents\\Ananconda\\lib\\site-packages\\pandas\\io\\parsers\\readers.py\u001b[0m in \u001b[0;36mread_csv\u001b[1;34m(filepath_or_buffer, sep, delimiter, header, names, index_col, usecols, squeeze, prefix, mangle_dupe_cols, dtype, engine, converters, true_values, false_values, skipinitialspace, skiprows, skipfooter, nrows, na_values, keep_default_na, na_filter, verbose, skip_blank_lines, parse_dates, infer_datetime_format, keep_date_col, date_parser, dayfirst, cache_dates, iterator, chunksize, compression, thousands, decimal, lineterminator, quotechar, quoting, doublequote, escapechar, comment, encoding, encoding_errors, dialect, error_bad_lines, warn_bad_lines, on_bad_lines, delim_whitespace, low_memory, memory_map, float_precision, storage_options)\u001b[0m\n\u001b[0;32m    676\u001b[0m     \u001b[0mkwds\u001b[0m\u001b[1;33m.\u001b[0m\u001b[0mupdate\u001b[0m\u001b[1;33m(\u001b[0m\u001b[0mkwds_defaults\u001b[0m\u001b[1;33m)\u001b[0m\u001b[1;33m\u001b[0m\u001b[1;33m\u001b[0m\u001b[0m\n\u001b[0;32m    677\u001b[0m \u001b[1;33m\u001b[0m\u001b[0m\n\u001b[1;32m--> 678\u001b[1;33m     \u001b[1;32mreturn\u001b[0m \u001b[0m_read\u001b[0m\u001b[1;33m(\u001b[0m\u001b[0mfilepath_or_buffer\u001b[0m\u001b[1;33m,\u001b[0m \u001b[0mkwds\u001b[0m\u001b[1;33m)\u001b[0m\u001b[1;33m\u001b[0m\u001b[1;33m\u001b[0m\u001b[0m\n\u001b[0m\u001b[0;32m    679\u001b[0m \u001b[1;33m\u001b[0m\u001b[0m\n\u001b[0;32m    680\u001b[0m \u001b[1;33m\u001b[0m\u001b[0m\n",
      "\u001b[1;32m~\\Documents\\Ananconda\\lib\\site-packages\\pandas\\io\\parsers\\readers.py\u001b[0m in \u001b[0;36m_read\u001b[1;34m(filepath_or_buffer, kwds)\u001b[0m\n\u001b[0;32m    573\u001b[0m \u001b[1;33m\u001b[0m\u001b[0m\n\u001b[0;32m    574\u001b[0m     \u001b[1;31m# Create the parser.\u001b[0m\u001b[1;33m\u001b[0m\u001b[1;33m\u001b[0m\u001b[0m\n\u001b[1;32m--> 575\u001b[1;33m     \u001b[0mparser\u001b[0m \u001b[1;33m=\u001b[0m \u001b[0mTextFileReader\u001b[0m\u001b[1;33m(\u001b[0m\u001b[0mfilepath_or_buffer\u001b[0m\u001b[1;33m,\u001b[0m \u001b[1;33m**\u001b[0m\u001b[0mkwds\u001b[0m\u001b[1;33m)\u001b[0m\u001b[1;33m\u001b[0m\u001b[1;33m\u001b[0m\u001b[0m\n\u001b[0m\u001b[0;32m    576\u001b[0m \u001b[1;33m\u001b[0m\u001b[0m\n\u001b[0;32m    577\u001b[0m     \u001b[1;32mif\u001b[0m \u001b[0mchunksize\u001b[0m \u001b[1;32mor\u001b[0m \u001b[0miterator\u001b[0m\u001b[1;33m:\u001b[0m\u001b[1;33m\u001b[0m\u001b[1;33m\u001b[0m\u001b[0m\n",
      "\u001b[1;32m~\\Documents\\Ananconda\\lib\\site-packages\\pandas\\io\\parsers\\readers.py\u001b[0m in \u001b[0;36m__init__\u001b[1;34m(self, f, engine, **kwds)\u001b[0m\n\u001b[0;32m    930\u001b[0m \u001b[1;33m\u001b[0m\u001b[0m\n\u001b[0;32m    931\u001b[0m         \u001b[0mself\u001b[0m\u001b[1;33m.\u001b[0m\u001b[0mhandles\u001b[0m\u001b[1;33m:\u001b[0m \u001b[0mIOHandles\u001b[0m \u001b[1;33m|\u001b[0m \u001b[1;32mNone\u001b[0m \u001b[1;33m=\u001b[0m \u001b[1;32mNone\u001b[0m\u001b[1;33m\u001b[0m\u001b[1;33m\u001b[0m\u001b[0m\n\u001b[1;32m--> 932\u001b[1;33m         \u001b[0mself\u001b[0m\u001b[1;33m.\u001b[0m\u001b[0m_engine\u001b[0m \u001b[1;33m=\u001b[0m \u001b[0mself\u001b[0m\u001b[1;33m.\u001b[0m\u001b[0m_make_engine\u001b[0m\u001b[1;33m(\u001b[0m\u001b[0mf\u001b[0m\u001b[1;33m,\u001b[0m \u001b[0mself\u001b[0m\u001b[1;33m.\u001b[0m\u001b[0mengine\u001b[0m\u001b[1;33m)\u001b[0m\u001b[1;33m\u001b[0m\u001b[1;33m\u001b[0m\u001b[0m\n\u001b[0m\u001b[0;32m    933\u001b[0m \u001b[1;33m\u001b[0m\u001b[0m\n\u001b[0;32m    934\u001b[0m     \u001b[1;32mdef\u001b[0m \u001b[0mclose\u001b[0m\u001b[1;33m(\u001b[0m\u001b[0mself\u001b[0m\u001b[1;33m)\u001b[0m\u001b[1;33m:\u001b[0m\u001b[1;33m\u001b[0m\u001b[1;33m\u001b[0m\u001b[0m\n",
      "\u001b[1;32m~\\Documents\\Ananconda\\lib\\site-packages\\pandas\\io\\parsers\\readers.py\u001b[0m in \u001b[0;36m_make_engine\u001b[1;34m(self, f, engine)\u001b[0m\n\u001b[0;32m   1214\u001b[0m             \u001b[1;31m# \"Union[str, PathLike[str], ReadCsvBuffer[bytes], ReadCsvBuffer[str]]\"\u001b[0m\u001b[1;33m\u001b[0m\u001b[1;33m\u001b[0m\u001b[0m\n\u001b[0;32m   1215\u001b[0m             \u001b[1;31m# , \"str\", \"bool\", \"Any\", \"Any\", \"Any\", \"Any\", \"Any\"\u001b[0m\u001b[1;33m\u001b[0m\u001b[1;33m\u001b[0m\u001b[0m\n\u001b[1;32m-> 1216\u001b[1;33m             self.handles = get_handle(  # type: ignore[call-overload]\n\u001b[0m\u001b[0;32m   1217\u001b[0m                 \u001b[0mf\u001b[0m\u001b[1;33m,\u001b[0m\u001b[1;33m\u001b[0m\u001b[1;33m\u001b[0m\u001b[0m\n\u001b[0;32m   1218\u001b[0m                 \u001b[0mmode\u001b[0m\u001b[1;33m,\u001b[0m\u001b[1;33m\u001b[0m\u001b[1;33m\u001b[0m\u001b[0m\n",
      "\u001b[1;32m~\\Documents\\Ananconda\\lib\\site-packages\\pandas\\io\\common.py\u001b[0m in \u001b[0;36mget_handle\u001b[1;34m(path_or_buf, mode, encoding, compression, memory_map, is_text, errors, storage_options)\u001b[0m\n\u001b[0;32m    784\u001b[0m         \u001b[1;32mif\u001b[0m \u001b[0mioargs\u001b[0m\u001b[1;33m.\u001b[0m\u001b[0mencoding\u001b[0m \u001b[1;32mand\u001b[0m \u001b[1;34m\"b\"\u001b[0m \u001b[1;32mnot\u001b[0m \u001b[1;32min\u001b[0m \u001b[0mioargs\u001b[0m\u001b[1;33m.\u001b[0m\u001b[0mmode\u001b[0m\u001b[1;33m:\u001b[0m\u001b[1;33m\u001b[0m\u001b[1;33m\u001b[0m\u001b[0m\n\u001b[0;32m    785\u001b[0m             \u001b[1;31m# Encoding\u001b[0m\u001b[1;33m\u001b[0m\u001b[1;33m\u001b[0m\u001b[0m\n\u001b[1;32m--> 786\u001b[1;33m             handle = open(\n\u001b[0m\u001b[0;32m    787\u001b[0m                 \u001b[0mhandle\u001b[0m\u001b[1;33m,\u001b[0m\u001b[1;33m\u001b[0m\u001b[1;33m\u001b[0m\u001b[0m\n\u001b[0;32m    788\u001b[0m                 \u001b[0mioargs\u001b[0m\u001b[1;33m.\u001b[0m\u001b[0mmode\u001b[0m\u001b[1;33m,\u001b[0m\u001b[1;33m\u001b[0m\u001b[1;33m\u001b[0m\u001b[0m\n",
      "\u001b[1;31mFileNotFoundError\u001b[0m: [Errno 2] No such file or directory: './Data/Data_Marketing_Customer_Analysis_Round3.csv'"
     ]
    }
   ],
   "source": [
    "file3 = pd.read_csv('./Data/Data_Marketing_Customer_Analysis_Round3.csv')\n",
    "file3.head()"
   ]
  },
  {
   "cell_type": "markdown",
   "id": "274ab38d",
   "metadata": {
    "slideshow": {
     "slide_type": "slide"
    }
   },
   "source": [
    "### Into Dataframes"
   ]
  },
  {
   "cell_type": "code",
   "execution_count": null,
   "id": "c2d674da",
   "metadata": {
    "slideshow": {
     "slide_type": "slide"
    }
   },
   "outputs": [],
   "source": [
    "numerical = file3.select_dtypes(include=[np.number])\n",
    "numerical.head()"
   ]
  },
  {
   "cell_type": "code",
   "execution_count": null,
   "id": "24c66283",
   "metadata": {
    "slideshow": {
     "slide_type": "slide"
    }
   },
   "outputs": [],
   "source": [
    "numerical.info() #bar charts - between numerical and categorical or categorical"
   ]
  },
  {
   "cell_type": "code",
   "execution_count": null,
   "id": "527cc585",
   "metadata": {
    "slideshow": {
     "slide_type": "slide"
    }
   },
   "outputs": [],
   "source": [
    "categorical = file3.select_dtypes(exclude=np.number)\n",
    "categorical.head()\n",
    "categorical.info"
   ]
  },
  {
   "cell_type": "code",
   "execution_count": null,
   "id": "c2ef4c68",
   "metadata": {
    "scrolled": true,
    "slideshow": {
     "slide_type": "slide"
    }
   },
   "outputs": [],
   "source": [
    "categorical.head()"
   ]
  },
  {
   "cell_type": "code",
   "execution_count": null,
   "id": "14c1c1a0",
   "metadata": {
    "slideshow": {
     "slide_type": "slide"
    }
   },
   "outputs": [],
   "source": [
    "categorical.columns.drop(\"effective_to_date\")"
   ]
  },
  {
   "cell_type": "markdown",
   "id": "69c1494d",
   "metadata": {
    "slideshow": {
     "slide_type": "slide"
    }
   },
   "source": [
    "### Normality of the Numerical Variables "
   ]
  },
  {
   "cell_type": "code",
   "execution_count": null,
   "id": "3a8e19aa",
   "metadata": {
    "slideshow": {
     "slide_type": "slide"
    }
   },
   "outputs": [],
   "source": [
    "fig, ax = plt.subplots(4, 2, figsize= (20,15)) #4 columns, two rows, size 20,15\n",
    "sns.histplot(data=numerical, x='income', ax=ax[0,0], kde=True) #kde draws line\n",
    "sns.histplot(data=numerical, x='customer_lifetime_value', ax=ax[0,1], kde=True)\n",
    "sns.histplot(data=numerical, x='monthly_premium_auto', ax=ax[1,0], kde=True)\n",
    "sns.histplot(data=numerical, x='months_since_last_claim', ax=ax[1,1], kde=True)\n",
    "sns.histplot(data=numerical, x='months_since_policy_inception', ax=ax[2,0], kde=True)\n",
    "sns.histplot(data=numerical, x='number_of_open_complaints', ax=ax[2,1], kde=True)\n",
    "sns.histplot(data=numerical, x='number_of_policies', ax=ax[3,0], kde=True)\n",
    "sns.histplot(data=numerical, x='total_claim_amount', ax=ax[3,1], kde=True)"
   ]
  },
  {
   "cell_type": "code",
   "execution_count": null,
   "id": "53ea5ee9",
   "metadata": {
    "slideshow": {
     "slide_type": "slide"
    }
   },
   "outputs": [],
   "source": [
    "numerical.hist(figsize=(10,15))"
   ]
  },
  {
   "cell_type": "markdown",
   "id": "4a7ddd15",
   "metadata": {
    "slideshow": {
     "slide_type": "slide"
    }
   },
   "source": [
    "Do the distributions for different numerical variables look like a normal distribution?\n",
    "\n",
    "= Only 'months_since_policy_inception' and 'income' have a slightly more normal distribution. "
   ]
  },
  {
   "cell_type": "markdown",
   "id": "94d21fff",
   "metadata": {
    "slideshow": {
     "slide_type": "slide"
    }
   },
   "source": [
    "### Multicollinearity between the Input Features"
   ]
  },
  {
   "cell_type": "code",
   "execution_count": null,
   "id": "2563fa5d",
   "metadata": {
    "slideshow": {
     "slide_type": "slide"
    }
   },
   "outputs": [],
   "source": [
    "num_cols = numerical.columns.drop(\"total_claim_amount\")\n",
    "sns.pairplot(numerical[num_cols])"
   ]
  },
  {
   "cell_type": "markdown",
   "id": "bbccf38e",
   "metadata": {
    "slideshow": {
     "slide_type": "slide"
    }
   },
   "source": [
    "### Correlation Heatmap"
   ]
  },
  {
   "cell_type": "code",
   "execution_count": null,
   "id": "de9e3c0d",
   "metadata": {
    "slideshow": {
     "slide_type": "slide"
    }
   },
   "outputs": [],
   "source": [
    "corr = numerical.corr() # calculate the correlation matrix\n",
    "\n",
    "sns.heatmap(corr, xticklabels=corr.columns,yticklabels=corr.columns, annot=True)    # plot the heatmap"
   ]
  },
  {
   "cell_type": "markdown",
   "id": "11d6a7cc",
   "metadata": {
    "slideshow": {
     "slide_type": "slide"
    }
   },
   "source": [
    "## Optional\n",
    "\n",
    "Drop one of the two features that show a high correlation between them (greater than 0.9). \n",
    "If there is no pair of features that have a high correlation, then do not drop any features.\n",
    "\n",
    "Yet there are none."
   ]
  },
  {
   "cell_type": "markdown",
   "id": "8c4eb744",
   "metadata": {
    "slideshow": {
     "slide_type": "slide"
    }
   },
   "source": [
    "## Fourth Part"
   ]
  },
  {
   "cell_type": "markdown",
   "id": "ba010096",
   "metadata": {
    "slideshow": {
     "slide_type": "slide"
    }
   },
   "source": [
    "### Plots"
   ]
  },
  {
   "cell_type": "markdown",
   "id": "d70c3c91",
   "metadata": {
    "slideshow": {
     "slide_type": "slide"
    }
   },
   "source": [
    "#### A plot of the total number of responses"
   ]
  },
  {
   "cell_type": "code",
   "execution_count": null,
   "id": "5c19125b",
   "metadata": {
    "slideshow": {
     "slide_type": "slide"
    }
   },
   "outputs": [],
   "source": [
    "responses = categorical['response'].value_counts()\n",
    "\n",
    "# create figure and axes\n",
    "plt.bar(responses.index, responses, color=('red','green'))\n",
    "# set title\n",
    "plt.title('Responses', fontweight='bold')\n",
    "plt.xticks(ticks=[0,1],labels=[\"no\",\"yes\"]) #, rotation = '90') #to label the ticks, numerical data in there\n",
    "#rotate them so they can fit \n",
    "plt.ylabel(\"Count\") #instead x label too can do\n",
    "plt.show()"
   ]
  },
  {
   "cell_type": "markdown",
   "id": "fbdc6c4a",
   "metadata": {
    "slideshow": {
     "slide_type": "slide"
    }
   },
   "source": [
    "#### A plot of the response by the sales channel"
   ]
  },
  {
   "cell_type": "markdown",
   "id": "e85467b9",
   "metadata": {
    "slideshow": {
     "slide_type": "slide"
    }
   },
   "source": [
    "What didn't work:\n",
    "responses = categorical(['response'].value_counts()\n",
    "sns.barplot(x = ['sales_channel'],y = ['response'])\n",
    "fg6 = sns.catplot(x='response', y = 'count', hue = 'sales_channel', data = categorical, col='sex', kind='bar')"
   ]
  },
  {
   "cell_type": "code",
   "execution_count": null,
   "id": "2726fe5d",
   "metadata": {
    "scrolled": true,
    "slideshow": {
     "slide_type": "slide"
    }
   },
   "outputs": [],
   "source": [
    "from statsmodels.graphics.mosaicplot import mosaic\n",
    "plt.rcParams['font.size'] = 14.0\n",
    "_=mosaic(categorical, ['response', 'sales_channel'])\n"
   ]
  },
  {
   "cell_type": "code",
   "execution_count": null,
   "id": "945b48ab",
   "metadata": {
    "slideshow": {
     "slide_type": "slide"
    }
   },
   "outputs": [],
   "source": [
    "categorical['response'].value_counts().plot(kind='bar')"
   ]
  },
  {
   "cell_type": "code",
   "execution_count": null,
   "id": "0ffe69f3",
   "metadata": {
    "slideshow": {
     "slide_type": "slide"
    }
   },
   "outputs": [],
   "source": [
    "fg6 = sns.countplot(x='sales_channel', hue = 'response', data= categorical)"
   ]
  },
  {
   "cell_type": "code",
   "execution_count": null,
   "id": "644def7d",
   "metadata": {
    "slideshow": {
     "slide_type": "slide"
    }
   },
   "outputs": [],
   "source": [
    "fg7 = sns.displot(x='sales_channel', hue = 'response', data= categorical)\n"
   ]
  },
  {
   "cell_type": "code",
   "execution_count": null,
   "id": "d4259d05",
   "metadata": {
    "slideshow": {
     "slide_type": "slide"
    }
   },
   "outputs": [],
   "source": [
    "fg7 = sns.displot(x='total_claim_amount', hue = 'response', data=file3, kde=True)"
   ]
  },
  {
   "cell_type": "code",
   "execution_count": null,
   "id": "bef737ae",
   "metadata": {
    "scrolled": true,
    "slideshow": {
     "slide_type": "slide"
    }
   },
   "outputs": [],
   "source": [
    "fg7 = sns.displot(x='total_claim_amount', hue = 'sales_channel', data=file3, kde=True)"
   ]
  },
  {
   "cell_type": "code",
   "execution_count": null,
   "id": "e955a8b9",
   "metadata": {
    "slideshow": {
     "slide_type": "slide"
    }
   },
   "outputs": [],
   "source": [
    "fg8 = sns.displot(x='income', hue = 'response', data=file3, kde=True)"
   ]
  },
  {
   "cell_type": "markdown",
   "id": "33fd26e1",
   "metadata": {},
   "source": [
    "#### A possible way to a Correlation Matrix and Heat-Map of categorical values\n",
    "\n",
    "pip install dython\n",
    "conda install -c conda-forge dython\n",
    "pip install git+https://github.com/shakedzy/dython.git`\n",
    "    \n",
    "import pandas as pd\n",
    "from dython.nominal import associations\n",
    "\n",
    "from dython.nominal import identify_nominal_columns\n",
    "categorical_features=identify_nominal_columns(file3)\n",
    "categorical_features\n",
    "\n",
    "associations(file3, nominal_columns='auto', numerical_columns=None, mark_columns=False, nom_nom_assoc='cramer', \n",
    "num_num_assoc='pearson', bias_correction=True, nan_strategy=_REPLACE, nan_replace_value=_DEFAULT_REPLACE_VALUE, ax=None, \n",
    "figsize=None, annot=True, fmt='.2f', cmap=None, sv_color='silver', cbar=True, vmax=1.0, vmin=None, plot=True, \n",
    "compute_only=False, clustering=False, title=None, filename=None)\n",
    "\n",
    "complete_correlation= associations(file3, filename= 'complete_correlation.png', figsize=(10,10))\n",
    "file3_complete_corr=complete_correlation['corr']\n",
    "file3_complete_corr.dropna(axis=1, how='all').dropna(axis=0, how='all').style.background_gradient(cmap='coolwarm', axis=None).set_precision(2)"
   ]
  },
  {
   "cell_type": "markdown",
   "id": "37cd8d2e",
   "metadata": {},
   "source": [
    "#### Questions left\n",
    "\n",
    "#is it better to call it something else than df\n",
    "\n",
    "#do i need to pull the changes from github\n"
   ]
  }
 ],
 "metadata": {
  "celltoolbar": "Slideshow",
  "kernelspec": {
   "display_name": "Python 3 (ipykernel)",
   "language": "python",
   "name": "python3"
  },
  "language_info": {
   "codemirror_mode": {
    "name": "ipython",
    "version": 3
   },
   "file_extension": ".py",
   "mimetype": "text/x-python",
   "name": "python",
   "nbconvert_exporter": "python",
   "pygments_lexer": "ipython3",
   "version": "3.9.13"
  }
 },
 "nbformat": 4,
 "nbformat_minor": 5
}
