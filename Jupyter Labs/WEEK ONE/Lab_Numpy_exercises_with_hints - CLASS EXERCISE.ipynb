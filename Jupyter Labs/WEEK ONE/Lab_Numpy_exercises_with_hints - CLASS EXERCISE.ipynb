{
 "cells": [
  {
   "cell_type": "code",
   "execution_count": null,
   "id": "522d6520",
   "metadata": {},
   "outputs": [],
   "source": [
    "# numpy exercises\n",
    "\n",
    "This is a collection of exercises that have been collected in the numpy mailing list, on stack overflow\n",
    "and in the numpy documentation. The goal of this collection is to offer a quick reference for both old\n",
    "and new users but also to provide a set of exercises for those who teach.\n",
    "\n",
    "\n",
    "If you find an error or think you've a better way to solve some of them, feel\n",
    "free to open an issue at <https://github.com/rougier/numpy-100>.\n",
    "File automatically generated. See the documentation to update questions/answers/hints programmatically.\n",
    "\n",
    "#### 1. Import the numpy package under the name `np` (★☆☆)\n",
    "`hint: import … as`\n",
    "\n"
   ]
  },
  {
   "cell_type": "code",
   "execution_count": 3,
   "id": "a00ffe7a",
   "metadata": {},
   "outputs": [],
   "source": [
    "import numpy as np"
   ]
  },
  {
   "cell_type": "code",
   "execution_count": 71,
   "id": "86bc9d27",
   "metadata": {},
   "outputs": [
    {
     "name": "stdout",
     "output_type": "stream",
     "text": [
      "[0. 0. 0. 0. 0. 0. 0. 0. 0. 0.]\n"
     ]
    }
   ],
   "source": [
    "#DONE -             #### 2. Create a null vector of size 10 (★☆☆)\n",
    "                    #`hint: np.zeros`\n",
    "\n",
    "import numpy as np\n",
    "x = np.zeros(10)\n",
    "print(x)"
   ]
  },
  {
   "cell_type": "code",
   "execution_count": 72,
   "id": "7eec5e49",
   "metadata": {},
   "outputs": [
    {
     "name": "stdout",
     "output_type": "stream",
     "text": [
      "[0. 0. 0. 0. 5. 0. 0. 0. 0. 0.]\n"
     ]
    }
   ],
   "source": [
    "#DONE -            #### 3. Create a null vector of size 10 but the fifth value which is 1 (★☆☆)\n",
    "                        #`hint: array[4]`\n",
    "\n",
    "x[4] = 5\n",
    "print(x)"
   ]
  },
  {
   "cell_type": "code",
   "execution_count": 19,
   "id": "1a845d08",
   "metadata": {},
   "outputs": [
    {
     "name": "stdout",
     "output_type": "stream",
     "text": [
      "[10 11 12 13 14 15 16 17 18 19 20 21 22 23 24 25 26 27 28 29 30 31 32 33\n",
      " 34 35 36 37 38 39 40 41 42 43 44 45 46 47 48 49]\n"
     ]
    }
   ],
   "source": [
    "#DONE -            #### 4. Create a vector with values ranging from 10 to 49 (★☆☆)\n",
    "                    #`hint: arange`\n",
    "\n",
    "x = np.arange(10,50,1)\n",
    "print(x)"
   ]
  },
  {
   "cell_type": "code",
   "execution_count": 44,
   "id": "2826d6e5",
   "metadata": {},
   "outputs": [
    {
     "name": "stdout",
     "output_type": "stream",
     "text": [
      "[[0 1 2]\n",
      " [3 4 5]\n",
      " [6 7 8]]\n"
     ]
    }
   ],
   "source": [
    "#DONE -            #### 5. Create a 3x3 matrix with values ranging from 0 to 8 (★☆☆)\n",
    "                    #`hint: reshape`\n",
    "    \n",
    "b = np.arange(0,9,1).reshape((3,3))\n",
    "print(b)\n",
    "\n"
   ]
  },
  {
   "cell_type": "code",
   "execution_count": 51,
   "id": "27b02119",
   "metadata": {},
   "outputs": [
    {
     "data": {
      "text/plain": [
       "(array([0, 1, 4], dtype=int64),)"
      ]
     },
     "execution_count": 51,
     "metadata": {},
     "output_type": "execute_result"
    }
   ],
   "source": [
    "#DONE -           #### 6. Find indices of non-zero elements from [1,2,0,0,4,0] (★☆☆)\n",
    "                   #`hint: np.nonzero`\n",
    "random_list = [1,2,0,0,4,0]\n",
    "np.nonzero(random_list)"
   ]
  },
  {
   "cell_type": "code",
   "execution_count": null,
   "id": "4ef53287",
   "metadata": {},
   "outputs": [],
   "source": [
    "#DONE -          #non_zero_elements = []\n",
    "\n",
    "                    #non_zero_elements = [i for i in random_list if [i]!=0]\n",
    "n                   #print(non_zero_elements)"
   ]
  },
  {
   "cell_type": "code",
   "execution_count": 53,
   "id": "81914bb9",
   "metadata": {},
   "outputs": [
    {
     "name": "stdout",
     "output_type": "stream",
     "text": [
      "[[1. 0. 0.]\n",
      " [0. 1. 0.]\n",
      " [0. 0. 1.]]\n"
     ]
    }
   ],
   "source": [
    "#DONE -          #### 7. Create a 3x3 identity matrix (★☆☆)\n",
    "                  #`hint: np.eye`\n",
    "\n",
    "r = np.eye(3)\n",
    "print(r)"
   ]
  },
  {
   "cell_type": "code",
   "execution_count": 56,
   "id": "f89e53e5",
   "metadata": {},
   "outputs": [
    {
     "name": "stdout",
     "output_type": "stream",
     "text": [
      "[[[0.9117999  0.89316381 0.94889763]\n",
      "  [0.25669809 0.52468272 0.55063148]\n",
      "  [0.99809818 0.67598745 0.6973874 ]]\n",
      "\n",
      " [[0.69729575 0.28452589 0.17390492]\n",
      "  [0.19112337 0.61507038 0.06371567]\n",
      "  [0.61239547 0.60262896 0.22558059]]\n",
      "\n",
      " [[0.32301593 0.9491967  0.63963043]\n",
      "  [0.73714709 0.46935964 0.14381789]\n",
      "  [0.58182154 0.15819238 0.47659675]]]\n"
     ]
    }
   ],
   "source": [
    "#DONE -          #### 8. Create a 3x3x3 array with random values (★☆☆)\n",
    "                    #`hint: np.random.random`\n",
    "c = np.random.random((3,3,3))\n",
    "print(c)\n"
   ]
  },
  {
   "cell_type": "code",
   "execution_count": 68,
   "id": "3c9266fa",
   "metadata": {},
   "outputs": [
    {
     "name": "stdout",
     "output_type": "stream",
     "text": [
      "[[0.33559854 0.48306811 0.62156284 0.50521838 0.57245485 0.34826567\n",
      "  0.6621988  0.48499164 0.59234872 0.1756178 ]\n",
      " [0.35178482 0.90443339 0.29271236 0.21898829 0.16422133 0.18697859\n",
      "  0.67514656 0.56779215 0.76699914 0.74179221]\n",
      " [0.76093139 0.2262875  0.43920557 0.70227977 0.39209784 0.50645918\n",
      "  0.11653944 0.69265771 0.5387464  0.25771743]\n",
      " [0.19645385 0.20214472 0.0129209  0.29344683 0.93590449 0.56817106\n",
      "  0.7672353  0.09921741 0.69974294 0.39966739]\n",
      " [0.04388509 0.7385351  0.02965696 0.82649502 0.79798706 0.98217144\n",
      "  0.16307764 0.10215707 0.89002831 0.56174693]\n",
      " [0.26425608 0.94042842 0.85795011 0.3332651  0.63843739 0.79960596\n",
      "  0.7624676  0.90502206 0.1351823  0.09953027]\n",
      " [0.31740075 0.74244123 0.14655585 0.55801861 0.84517393 0.07446978\n",
      "  0.15063199 0.23431748 0.62865259 0.83620791]\n",
      " [0.33248332 0.52037322 0.57252586 0.57560202 0.57458498 0.03137221\n",
      "  0.36379305 0.04748143 0.28830322 0.88562299]\n",
      " [0.01283272 0.71655213 0.14641609 0.39232773 0.07121861 0.03860713\n",
      "  0.14845659 0.83951807 0.93399374 0.41194529]\n",
      " [0.59328883 0.41111126 0.27259277 0.61442675 0.2404155  0.42478475\n",
      "  0.80324817 0.40260246 0.58121537 0.31326187]]\n",
      "0.012832715632920766\n",
      "0.9821714360470998\n"
     ]
    }
   ],
   "source": [
    "#DONE -         #### 9. Create a 10x10 array with random values and find the minimum and maximum values (★☆☆)\n",
    "                #`hint: min, max`\n",
    "d = np.random.random((10,10))\n",
    "print(d)\n",
    "\n",
    "print(d.min())\n",
    "\n",
    "print(d.max())\n"
   ]
  },
  {
   "cell_type": "code",
   "execution_count": 117,
   "id": "7a684fb0",
   "metadata": {},
   "outputs": [
    {
     "name": "stdout",
     "output_type": "stream",
     "text": [
      "[0.77961485 0.01930566 0.66608534 0.68509957 0.06522063 0.57819096\n",
      " 0.23316488 0.95787209 0.29403451 0.89254729 0.0361938  0.3811254\n",
      " 0.29516056 0.08645675 0.27685847 0.87230632 0.39951193 0.96518905\n",
      " 0.42807413 0.49453396 0.27921245 0.90612657 0.2080957  0.09902969\n",
      " 0.6036971  0.77106695 0.29159394 0.57629029 0.4052199  0.0368452 ]\n",
      "0.4527907973210655\n"
     ]
    }
   ],
   "source": [
    "#DONE          #### 10. Create a random vector of size 30 and find the mean value (★☆☆)\n",
    "               #`hint: mean`\n",
    "import numpy as np\n",
    "x = np.random.random(30)\n",
    "b = np.mean(x)\n",
    "print(x)\n",
    "print(b)\n",
    "\n"
   ]
  },
  {
   "cell_type": "code",
   "execution_count": 99,
   "id": "cb5733c9",
   "metadata": {},
   "outputs": [
    {
     "name": "stdout",
     "output_type": "stream",
     "text": [
      "[[1. 0. 0. 0. 0.]\n",
      " [0. 1. 0. 0. 0.]\n",
      " [0. 0. 1. 0. 0.]\n",
      " [0. 0. 0. 1. 0.]\n",
      " [0. 0. 0. 0. 1.]]\n"
     ]
    },
    {
     "ename": "NameError",
     "evalue": "name 'k' is not defined",
     "output_type": "error",
     "traceback": [
      "\u001b[1;31m---------------------------------------------------------------------------\u001b[0m",
      "\u001b[1;31mNameError\u001b[0m                                 Traceback (most recent call last)",
      "\u001b[1;32m~\\AppData\\Local\\Temp\\ipykernel_9892\\2142964084.py\u001b[0m in \u001b[0;36m<module>\u001b[1;34m\u001b[0m\n\u001b[0;32m      5\u001b[0m \u001b[0mprint\u001b[0m\u001b[1;33m(\u001b[0m\u001b[0mf\u001b[0m\u001b[1;33m)\u001b[0m\u001b[1;33m\u001b[0m\u001b[1;33m\u001b[0m\u001b[0m\n\u001b[0;32m      6\u001b[0m \u001b[1;33m\u001b[0m\u001b[0m\n\u001b[1;32m----> 7\u001b[1;33m \u001b[0mnp\u001b[0m\u001b[1;33m.\u001b[0m\u001b[0mdiag\u001b[0m\u001b[1;33m(\u001b[0m\u001b[0mf\u001b[0m\u001b[1;33m,\u001b[0m \u001b[0mk\u001b[0m\u001b[1;33m)\u001b[0m\u001b[1;33m\u001b[0m\u001b[1;33m\u001b[0m\u001b[0m\n\u001b[0m\u001b[0;32m      8\u001b[0m \u001b[1;33m\u001b[0m\u001b[0m\n\u001b[0;32m      9\u001b[0m \u001b[1;33m\u001b[0m\u001b[0m\n",
      "\u001b[1;31mNameError\u001b[0m: name 'k' is not defined"
     ]
    }
   ],
   "source": [
    "#DONE -        #### 11. Create a 5x5 matrix with values 1,2,3,4 just below the diagonal (★☆☆)\n",
    "                    #`hint: np.diag`\n",
    "\n",
    "f = np.eye(5)\n",
    "print(f)\n",
    "\n",
    "np.diag(f, k)\n",
    "\n",
    "#OR\n",
    "\n",
    "f = np.arange(25).reshape((5,5))\n",
    "\n",
    "np.diag(np.diag(f))\n"
   ]
  },
  {
   "cell_type": "code",
   "execution_count": 107,
   "id": "f1ba3a07",
   "metadata": {},
   "outputs": [
    {
     "name": "stdout",
     "output_type": "stream",
     "text": [
      "[[1.         0.76841525 0.80806819 0.7173297  0.15602039]\n",
      " [0.93667597 0.60221617 0.18578001 0.60280621 0.38516743]\n",
      " [0.40865313 0.13625573 0.55206749 0.55326393 0.67567112]\n",
      " [0.87920792 0.04803217 0.         0.19078973 0.46319131]\n",
      " [0.82291766 0.73702491 0.19824174 0.85484479 0.15534098]]\n"
     ]
    }
   ],
   "source": [
    "#DONE -        #### 12. Normalize a 5x5 random matrix (★☆☆)\n",
    "                #`hint: (x -mean)/std`\n",
    "\n",
    "g = np.random.random((5,5))\n",
    "\n",
    "\n",
    "gmax, gmin = g.max(), g.min()\n",
    "g = (g - gmin)/(gmax - gmin)\n",
    "print(g)"
   ]
  },
  {
   "cell_type": "code",
   "execution_count": 111,
   "id": "78315300",
   "metadata": {},
   "outputs": [
    {
     "name": "stdout",
     "output_type": "stream",
     "text": [
      "[1 2 4]\n"
     ]
    }
   ],
   "source": [
    "#DONE -        #### 13. How to find common values between two arrays? (★☆☆)\n",
    "                #`hint: np.intersect1d`\n",
    "j = np.array([1, 1, 2, 3, 4])\n",
    "k = np.array([2, 1, 4, 6])\n",
    "    \n",
    "l = np.intersect1d(j, k)\n",
    "    \n",
    "print (l)\n"
   ]
  },
  {
   "cell_type": "code",
   "execution_count": 119,
   "id": "638059c5",
   "metadata": {},
   "outputs": [
    {
     "name": "stdout",
     "output_type": "stream",
     "text": [
      "[0.99758825 0.35806068 0.32392683 0.19317051 0.13452948 0.59614725\n",
      " 0.83345792 0.43258045 0.52304227 0.51186766]\n",
      "[0.13452948 0.19317051 0.32392683 0.35806068 0.43258045 0.51186766\n",
      " 0.52304227 0.59614725 0.83345792 0.99758825]\n"
     ]
    }
   ],
   "source": [
    "#DONE -        #### 14. Create a random vector of size 10 and sort it (★★☆)\n",
    "                #`hint: sort`\n",
    "\n",
    "x = np.random.random(10)\n",
    "print(x)\n",
    "x.sort()\n",
    "\n",
    "print(x)"
   ]
  },
  {
   "cell_type": "code",
   "execution_count": 136,
   "id": "e7f0fedd",
   "metadata": {},
   "outputs": [
    {
     "name": "stdout",
     "output_type": "stream",
     "text": [
      "[0.16548348 0.91378915 0.18248489 0.85098871 0.66708455 0.71747375\n",
      " 0.14309334 0.32855839 0.56107657 0.6970054 ]\n",
      "[0.16548348 0.         0.18248489 0.85098871 0.66708455 0.71747375\n",
      " 0.14309334 0.32855839 0.56107657 0.6970054 ]\n"
     ]
    }
   ],
   "source": [
    "#DONE             15. Create random vector of size 10 and replace the maximum value by 0 (★★☆)\n",
    "                       #`hint: argmax`\n",
    "\n",
    "x = np.random.random(10)\n",
    "print(x)\n",
    "x[x.argmax()] = 0\n",
    "print(x)"
   ]
  },
  {
   "cell_type": "code",
   "execution_count": 137,
   "id": "22cbee8f",
   "metadata": {},
   "outputs": [
    {
     "name": "stdout",
     "output_type": "stream",
     "text": [
      "[[0.13630982 0.33326763 0.5854842  0.73434831]\n",
      " [0.91827215 0.66324269 0.65971952 0.16908307]\n",
      " [0.33909267 0.51734795 0.59641849 0.74882211]\n",
      " [0.99608825 0.39865287 0.85596819 0.21082305]]\n",
      "[[-0.31104267 -0.11408486  0.13813171  0.28699582]\n",
      " [ 0.31569279  0.06066334  0.05714016 -0.43349629]\n",
      " [-0.21132764 -0.03307235  0.04599819  0.1984018 ]\n",
      " [ 0.38070516 -0.21673022  0.2405851  -0.40456004]]\n"
     ]
    }
   ],
   "source": [
    "#DONE  - NEED TO EXPLAIN TO MYSELF AGAIN                 #### 16. Subtract the mean of each row of a matrix (★★☆)\n",
    "                            #`hint: mean(axis=,keepdims=)`\n",
    "n = np.random.rand(4, 4)\n",
    "print(n)\n",
    "\n",
    "k = n - n.mean(axis=1, keepdims=True)\n",
    "print(k)\n"
   ]
  },
  {
   "cell_type": "code",
   "execution_count": 141,
   "id": "32039235",
   "metadata": {},
   "outputs": [
    {
     "name": "stdout",
     "output_type": "stream",
     "text": [
      "[9995 9996 9997 9998 9999]\n"
     ]
    }
   ],
   "source": [
    "#DONE                    17. How to get the n largest values of an array (★★★)\n",
    "Z = np.arange(10000)\n",
    "np.random.shuffle(Z)\n",
    "n = 5\n",
    "#hint: np.argsort | np.argpartition`\n",
    "\n",
    "x = np.arange(10000)\n",
    "np.random.shuffle(x)\n",
    "n = 5\n",
    "print (x[np.argsort(x)[-n:]])\n",
    "\n"
   ]
  },
  {
   "cell_type": "code",
   "execution_count": 176,
   "id": "8cd41613",
   "metadata": {},
   "outputs": [
    {
     "name": "stdout",
     "output_type": "stream",
     "text": [
      "[[6 6 1]\n",
      " [1 6 8]\n",
      " [1 2 7]\n",
      " [7 6 0]\n",
      " [1 3 4]]\n",
      "[[36 36  1]\n",
      " [ 1 36 64]\n",
      " [ 1  2 49]\n",
      " [49 36  0]\n",
      " [ 1  3  4]]\n"
     ]
    }
   ],
   "source": [
    "#### 18. Create a random 5*3 matrix and replace items that are larger than 4 by their squares ( Example:  6 --> 36) \n",
    "#`hint: np.where\n",
    "p = np.random.randint(9, size=(5,3))\n",
    "print(p)\n",
    "\n",
    "\n",
    "\n",
    "b = np.where(p > 4, p*p, p)\n",
    "print (b)\n",
    "\n",
    "\n"
   ]
  },
  {
   "cell_type": "code",
   "execution_count": 169,
   "id": "6e9c95d4",
   "metadata": {},
   "outputs": [
    {
     "ename": "SyntaxError",
     "evalue": "invalid syntax (1034300975.py, line 4)",
     "output_type": "error",
     "traceback": [
      "\u001b[1;36m  File \u001b[1;32m\"C:\\Users\\Poppy Nevin\\AppData\\Local\\Temp\\ipykernel_9892\\1034300975.py\"\u001b[1;36m, line \u001b[1;32m4\u001b[0m\n\u001b[1;33m    p[p > 4] = p*\u001b[0m\n\u001b[1;37m                 ^\u001b[0m\n\u001b[1;31mSyntaxError\u001b[0m\u001b[1;31m:\u001b[0m invalid syntax\n"
     ]
    }
   ],
   "source": [
    "p = np.random.randint(9, size=(5,3))\n",
    "print(p)\n",
    "\n",
    "p[p > 4] = \n",
    "\n",
    "\n",
    "b.reshape((5,3))\n",
    "print(b)"
   ]
  },
  {
   "cell_type": "code",
   "execution_count": 174,
   "id": "1ba61994",
   "metadata": {},
   "outputs": [
    {
     "name": "stdout",
     "output_type": "stream",
     "text": [
      "[[5 6 8]\n",
      " [2 7 2]\n",
      " [4 5 2]\n",
      " [7 0 2]\n",
      " [7 8 6]]\n"
     ]
    },
    {
     "ename": "TypeError",
     "evalue": "NumPy boolean array indexing assignment requires a 0 or 1-dimensional input, input has 2 dimensions",
     "output_type": "error",
     "traceback": [
      "\u001b[1;31m---------------------------------------------------------------------------\u001b[0m",
      "\u001b[1;31mTypeError\u001b[0m                                 Traceback (most recent call last)",
      "\u001b[1;32m~\\AppData\\Local\\Temp\\ipykernel_9892\\1060646064.py\u001b[0m in \u001b[0;36m<module>\u001b[1;34m\u001b[0m\n\u001b[0;32m      2\u001b[0m \u001b[0mprint\u001b[0m\u001b[1;33m(\u001b[0m\u001b[0mp\u001b[0m\u001b[1;33m)\u001b[0m\u001b[1;33m\u001b[0m\u001b[1;33m\u001b[0m\u001b[0m\n\u001b[0;32m      3\u001b[0m \u001b[1;33m\u001b[0m\u001b[0m\n\u001b[1;32m----> 4\u001b[1;33m \u001b[0mp\u001b[0m\u001b[1;33m[\u001b[0m\u001b[0mp\u001b[0m \u001b[1;33m>\u001b[0m \u001b[1;36m4\u001b[0m\u001b[1;33m]\u001b[0m \u001b[1;33m=\u001b[0m \u001b[0mp\u001b[0m\u001b[1;33m**\u001b[0m\u001b[1;36m2\u001b[0m\u001b[1;33m\u001b[0m\u001b[1;33m\u001b[0m\u001b[0m\n\u001b[0m",
      "\u001b[1;31mTypeError\u001b[0m: NumPy boolean array indexing assignment requires a 0 or 1-dimensional input, input has 2 dimensions"
     ]
    }
   ],
   "source": [
    "p = np.random.randint(9, size=(5,3))\n",
    "print(p)\n",
    "\n",
    "p[p > 4] = p**2"
   ]
  }
 ],
 "metadata": {
  "kernelspec": {
   "display_name": "Python 3 (ipykernel)",
   "language": "python",
   "name": "python3"
  },
  "language_info": {
   "codemirror_mode": {
    "name": "ipython",
    "version": 3
   },
   "file_extension": ".py",
   "mimetype": "text/x-python",
   "name": "python",
   "nbconvert_exporter": "python",
   "pygments_lexer": "ipython3",
   "version": "3.9.13"
  }
 },
 "nbformat": 4,
 "nbformat_minor": 5
}
